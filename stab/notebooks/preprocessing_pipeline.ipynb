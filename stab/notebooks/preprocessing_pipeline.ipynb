{
 "cells": [
  {
   "cell_type": "code",
   "execution_count": 195,
   "metadata": {},
   "outputs": [],
   "source": [
    "from itertools import chain\n",
    "import nltk\n",
    "from sklearn.metrics import classification_report, confusion_matrix\n",
    "from sklearn.preprocessing import LabelBinarizer\n",
    "import sklearn\n",
    "import pycrfsuite\n",
    "import pandas as pd\n",
    "import numpy as np"
   ]
  },
  {
   "cell_type": "markdown",
   "metadata": {},
   "source": [
    "# Import csv from preprocessing - generated with python script"
   ]
  },
  {
   "cell_type": "code",
   "execution_count": 196,
   "metadata": {},
   "outputs": [],
   "source": [
    "test = pd.read_csv('../identification.csv')"
   ]
  },
  {
   "cell_type": "code",
   "execution_count": 197,
   "metadata": {},
   "outputs": [
    {
     "data": {
      "text/html": [
       "<div>\n",
       "<style scoped>\n",
       "    .dataframe tbody tr th:only-of-type {\n",
       "        vertical-align: middle;\n",
       "    }\n",
       "\n",
       "    .dataframe tbody tr th {\n",
       "        vertical-align: top;\n",
       "    }\n",
       "\n",
       "    .dataframe thead th {\n",
       "        text-align: right;\n",
       "    }\n",
       "</style>\n",
       "<table border=\"1\" class=\"dataframe\">\n",
       "  <thead>\n",
       "    <tr style=\"text-align: right;\">\n",
       "      <th></th>\n",
       "      <th>token</th>\n",
       "      <th>lemma</th>\n",
       "      <th>sentence</th>\n",
       "      <th>index</th>\n",
       "      <th>start</th>\n",
       "      <th>pos</th>\n",
       "      <th>sentiment</th>\n",
       "      <th>paragraph</th>\n",
       "      <th>docPosition</th>\n",
       "      <th>sentPosition</th>\n",
       "      <th>...</th>\n",
       "      <th>precedesLCA</th>\n",
       "      <th>followsLCAPath</th>\n",
       "      <th>precedesLCAPath</th>\n",
       "      <th>head</th>\n",
       "      <th>uppermost</th>\n",
       "      <th>uppermost_child</th>\n",
       "      <th>right_sibling</th>\n",
       "      <th>right_sibling_head</th>\n",
       "      <th>probability</th>\n",
       "      <th>IOB</th>\n",
       "    </tr>\n",
       "  </thead>\n",
       "  <tbody>\n",
       "    <tr>\n",
       "      <th>0</th>\n",
       "      <td>It</td>\n",
       "      <td>it</td>\n",
       "      <td>0</td>\n",
       "      <td>1</td>\n",
       "      <td>55</td>\n",
       "      <td>PRP</td>\n",
       "      <td>Neutral</td>\n",
       "      <td>0</td>\n",
       "      <td>Introduction</td>\n",
       "      <td>First</td>\n",
       "      <td>...</td>\n",
       "      <td>NaN</td>\n",
       "      <td>0.166667</td>\n",
       "      <td>-1.000000</td>\n",
       "      <td>said-4</td>\n",
       "      <td>NP</td>\n",
       "      <td>PRP</td>\n",
       "      <td>PRP</td>\n",
       "      <td>said</td>\n",
       "      <td>0.500000</td>\n",
       "      <td>O</td>\n",
       "    </tr>\n",
       "    <tr>\n",
       "      <th>1</th>\n",
       "      <td>is</td>\n",
       "      <td>be</td>\n",
       "      <td>0</td>\n",
       "      <td>2</td>\n",
       "      <td>58</td>\n",
       "      <td>VBZ</td>\n",
       "      <td>Neutral</td>\n",
       "      <td>0</td>\n",
       "      <td>Introduction</td>\n",
       "      <td>Middle</td>\n",
       "      <td>...</td>\n",
       "      <td>S</td>\n",
       "      <td>0.250000</td>\n",
       "      <td>0.166667</td>\n",
       "      <td>said-4</td>\n",
       "      <td>VBZ</td>\n",
       "      <td>is</td>\n",
       "      <td>is</td>\n",
       "      <td>said</td>\n",
       "      <td>0.007090</td>\n",
       "      <td>O</td>\n",
       "    </tr>\n",
       "    <tr>\n",
       "      <th>2</th>\n",
       "      <td>always</td>\n",
       "      <td>always</td>\n",
       "      <td>0</td>\n",
       "      <td>3</td>\n",
       "      <td>61</td>\n",
       "      <td>RB</td>\n",
       "      <td>Neutral</td>\n",
       "      <td>0</td>\n",
       "      <td>Introduction</td>\n",
       "      <td>Middle</td>\n",
       "      <td>...</td>\n",
       "      <td>VP</td>\n",
       "      <td>0.250000</td>\n",
       "      <td>0.250000</td>\n",
       "      <td>said-4</td>\n",
       "      <td>ADVP</td>\n",
       "      <td>RB</td>\n",
       "      <td>RB</td>\n",
       "      <td>promote</td>\n",
       "      <td>0.007090</td>\n",
       "      <td>O</td>\n",
       "    </tr>\n",
       "    <tr>\n",
       "      <th>3</th>\n",
       "      <td>said</td>\n",
       "      <td>say</td>\n",
       "      <td>0</td>\n",
       "      <td>4</td>\n",
       "      <td>68</td>\n",
       "      <td>VBN</td>\n",
       "      <td>Neutral</td>\n",
       "      <td>0</td>\n",
       "      <td>Introduction</td>\n",
       "      <td>Middle</td>\n",
       "      <td>...</td>\n",
       "      <td>VP</td>\n",
       "      <td>0.333333</td>\n",
       "      <td>0.250000</td>\n",
       "      <td>said-4</td>\n",
       "      <td>ROOT</td>\n",
       "      <td>S</td>\n",
       "      <td>S</td>\n",
       "      <td>said</td>\n",
       "      <td>0.007090</td>\n",
       "      <td>O</td>\n",
       "    </tr>\n",
       "    <tr>\n",
       "      <th>4</th>\n",
       "      <td>that</td>\n",
       "      <td>that</td>\n",
       "      <td>0</td>\n",
       "      <td>5</td>\n",
       "      <td>73</td>\n",
       "      <td>IN</td>\n",
       "      <td>Neutral</td>\n",
       "      <td>0</td>\n",
       "      <td>Introduction</td>\n",
       "      <td>Middle</td>\n",
       "      <td>...</td>\n",
       "      <td>VP</td>\n",
       "      <td>0.416667</td>\n",
       "      <td>0.333333</td>\n",
       "      <td>promote-9</td>\n",
       "      <td>IN</td>\n",
       "      <td>that</td>\n",
       "      <td>that</td>\n",
       "      <td>promote</td>\n",
       "      <td>0.007090</td>\n",
       "      <td>O</td>\n",
       "    </tr>\n",
       "    <tr>\n",
       "      <th>...</th>\n",
       "      <td>...</td>\n",
       "      <td>...</td>\n",
       "      <td>...</td>\n",
       "      <td>...</td>\n",
       "      <td>...</td>\n",
       "      <td>...</td>\n",
       "      <td>...</td>\n",
       "      <td>...</td>\n",
       "      <td>...</td>\n",
       "      <td>...</td>\n",
       "      <td>...</td>\n",
       "      <td>...</td>\n",
       "      <td>...</td>\n",
       "      <td>...</td>\n",
       "      <td>...</td>\n",
       "      <td>...</td>\n",
       "      <td>...</td>\n",
       "      <td>...</td>\n",
       "      <td>...</td>\n",
       "      <td>...</td>\n",
       "      <td>...</td>\n",
       "    </tr>\n",
       "    <tr>\n",
       "      <th>403</th>\n",
       "      <td>in</td>\n",
       "      <td>in</td>\n",
       "      <td>0</td>\n",
       "      <td>34</td>\n",
       "      <td>2215</td>\n",
       "      <td>IN</td>\n",
       "      <td>Neutral</td>\n",
       "      <td>3</td>\n",
       "      <td>Conclusion</td>\n",
       "      <td>Middle</td>\n",
       "      <td>...</td>\n",
       "      <td>ADJP</td>\n",
       "      <td>0.750000</td>\n",
       "      <td>0.666667</td>\n",
       "      <td>success-37</td>\n",
       "      <td>IN</td>\n",
       "      <td>in</td>\n",
       "      <td>in</td>\n",
       "      <td>success</td>\n",
       "      <td>0.084201</td>\n",
       "      <td>Arg-I</td>\n",
       "    </tr>\n",
       "    <tr>\n",
       "      <th>404</th>\n",
       "      <td>one</td>\n",
       "      <td>one</td>\n",
       "      <td>0</td>\n",
       "      <td>35</td>\n",
       "      <td>2218</td>\n",
       "      <td>CD</td>\n",
       "      <td>Neutral</td>\n",
       "      <td>3</td>\n",
       "      <td>Conclusion</td>\n",
       "      <td>Middle</td>\n",
       "      <td>...</td>\n",
       "      <td>PP</td>\n",
       "      <td>0.916667</td>\n",
       "      <td>0.750000</td>\n",
       "      <td>success-37</td>\n",
       "      <td>NP</td>\n",
       "      <td>CD</td>\n",
       "      <td>POS</td>\n",
       "      <td>one</td>\n",
       "      <td>0.084201</td>\n",
       "      <td>Arg-I</td>\n",
       "    </tr>\n",
       "    <tr>\n",
       "      <th>405</th>\n",
       "      <td>'s</td>\n",
       "      <td>'s</td>\n",
       "      <td>0</td>\n",
       "      <td>36</td>\n",
       "      <td>2221</td>\n",
       "      <td>POS</td>\n",
       "      <td>Neutral</td>\n",
       "      <td>3</td>\n",
       "      <td>Conclusion</td>\n",
       "      <td>Middle</td>\n",
       "      <td>...</td>\n",
       "      <td>NP</td>\n",
       "      <td>0.833333</td>\n",
       "      <td>0.916667</td>\n",
       "      <td>one-35</td>\n",
       "      <td>POS</td>\n",
       "      <td>'s</td>\n",
       "      <td>'s</td>\n",
       "      <td>one</td>\n",
       "      <td>0.084201</td>\n",
       "      <td>Arg-I</td>\n",
       "    </tr>\n",
       "    <tr>\n",
       "      <th>406</th>\n",
       "      <td>success</td>\n",
       "      <td>success</td>\n",
       "      <td>0</td>\n",
       "      <td>37</td>\n",
       "      <td>2224</td>\n",
       "      <td>NN</td>\n",
       "      <td>Neutral</td>\n",
       "      <td>3</td>\n",
       "      <td>Conclusion</td>\n",
       "      <td>Middle</td>\n",
       "      <td>...</td>\n",
       "      <td>NP</td>\n",
       "      <td>0.166667</td>\n",
       "      <td>0.833333</td>\n",
       "      <td>profitable-33</td>\n",
       "      <td>PP</td>\n",
       "      <td>IN</td>\n",
       "      <td>NP</td>\n",
       "      <td>profitable</td>\n",
       "      <td>0.084201</td>\n",
       "      <td>Arg-I</td>\n",
       "    </tr>\n",
       "    <tr>\n",
       "      <th>407</th>\n",
       "      <td>.</td>\n",
       "      <td>.</td>\n",
       "      <td>0</td>\n",
       "      <td>38</td>\n",
       "      <td>2231</td>\n",
       "      <td>.</td>\n",
       "      <td>Neutral</td>\n",
       "      <td>3</td>\n",
       "      <td>Conclusion</td>\n",
       "      <td>Last</td>\n",
       "      <td>...</td>\n",
       "      <td>S</td>\n",
       "      <td>-1.000000</td>\n",
       "      <td>0.166667</td>\n",
       "      <td>receive-20</td>\n",
       "      <td>.</td>\n",
       "      <td>.</td>\n",
       "      <td>.</td>\n",
       "      <td>receive</td>\n",
       "      <td>0.084201</td>\n",
       "      <td>O</td>\n",
       "    </tr>\n",
       "  </tbody>\n",
       "</table>\n",
       "<p>408 rows × 24 columns</p>\n",
       "</div>"
      ],
      "text/plain": [
       "       token    lemma  sentence  index  start  pos sentiment  paragraph  \\\n",
       "0         It       it         0      1     55  PRP   Neutral          0   \n",
       "1         is       be         0      2     58  VBZ   Neutral          0   \n",
       "2     always   always         0      3     61   RB   Neutral          0   \n",
       "3       said      say         0      4     68  VBN   Neutral          0   \n",
       "4       that     that         0      5     73   IN   Neutral          0   \n",
       "..       ...      ...       ...    ...    ...  ...       ...        ...   \n",
       "403       in       in         0     34   2215   IN   Neutral          3   \n",
       "404      one      one         0     35   2218   CD   Neutral          3   \n",
       "405       's       's         0     36   2221  POS   Neutral          3   \n",
       "406  success  success         0     37   2224   NN   Neutral          3   \n",
       "407        .        .         0     38   2231    .   Neutral          3   \n",
       "\n",
       "      docPosition sentPosition  ...  precedesLCA  followsLCAPath  \\\n",
       "0    Introduction        First  ...          NaN        0.166667   \n",
       "1    Introduction       Middle  ...            S        0.250000   \n",
       "2    Introduction       Middle  ...           VP        0.250000   \n",
       "3    Introduction       Middle  ...           VP        0.333333   \n",
       "4    Introduction       Middle  ...           VP        0.416667   \n",
       "..            ...          ...  ...          ...             ...   \n",
       "403    Conclusion       Middle  ...         ADJP        0.750000   \n",
       "404    Conclusion       Middle  ...           PP        0.916667   \n",
       "405    Conclusion       Middle  ...           NP        0.833333   \n",
       "406    Conclusion       Middle  ...           NP        0.166667   \n",
       "407    Conclusion         Last  ...            S       -1.000000   \n",
       "\n",
       "     precedesLCAPath           head uppermost  uppermost_child  right_sibling  \\\n",
       "0          -1.000000         said-4        NP              PRP            PRP   \n",
       "1           0.166667         said-4       VBZ               is             is   \n",
       "2           0.250000         said-4      ADVP               RB             RB   \n",
       "3           0.250000         said-4      ROOT                S              S   \n",
       "4           0.333333      promote-9        IN             that           that   \n",
       "..               ...            ...       ...              ...            ...   \n",
       "403         0.666667     success-37        IN               in             in   \n",
       "404         0.750000     success-37        NP               CD            POS   \n",
       "405         0.916667         one-35       POS               's             's   \n",
       "406         0.833333  profitable-33        PP               IN             NP   \n",
       "407         0.166667     receive-20         .                .              .   \n",
       "\n",
       "    right_sibling_head probability    IOB  \n",
       "0                 said    0.500000      O  \n",
       "1                 said    0.007090      O  \n",
       "2              promote    0.007090      O  \n",
       "3                 said    0.007090      O  \n",
       "4              promote    0.007090      O  \n",
       "..                 ...         ...    ...  \n",
       "403            success    0.084201  Arg-I  \n",
       "404                one    0.084201  Arg-I  \n",
       "405                one    0.084201  Arg-I  \n",
       "406         profitable    0.084201  Arg-I  \n",
       "407            receive    0.084201      O  \n",
       "\n",
       "[408 rows x 24 columns]"
      ]
     },
     "execution_count": 197,
     "metadata": {},
     "output_type": "execute_result"
    }
   ],
   "source": [
    "test"
   ]
  },
  {
   "cell_type": "markdown",
   "metadata": {},
   "source": [
    "## Preprocess data from csv/DataFrame"
   ]
  },
  {
   "cell_type": "code",
   "execution_count": 198,
   "metadata": {},
   "outputs": [
    {
     "name": "stderr",
     "output_type": "stream",
     "text": [
      "/var/folders/7r/c0g604c13xn1wrqn69g540c00000gn/T/ipykernel_85540/1349379417.py:6: FutureWarning: Using short name for 'orient' is deprecated. Only the options: ('dict', list, 'series', 'split', 'records', 'index') will be used in a future version. Use one of the above to silence this warning.\n",
      "  sent_x.append(temp_test.loc[:, temp_test.columns != 'IOB'].to_dict(\"record\"))\n"
     ]
    }
   ],
   "source": [
    "sent_x = []\n",
    "sent_y = []\n",
    "for p in set(test.paragraph.values):\n",
    "    for s in set(test[test.paragraph==p].sentence.values):\n",
    "        temp_test = test[(test.paragraph == p) & (test.sentence == s)]\n",
    "        sent_x.append(temp_test.loc[:, temp_test.columns != 'IOB'].to_dict(\"record\"))\n",
    "        sent_y.append(temp_test.IOB.values)"
   ]
  },
  {
   "cell_type": "markdown",
   "metadata": {},
   "source": [
    "## Split data - informal for now and only on esssay001"
   ]
  },
  {
   "cell_type": "code",
   "execution_count": 199,
   "metadata": {},
   "outputs": [],
   "source": [
    "X_train = sent_x[:10]\n",
    "y_train = sent_y[:10]\n",
    "X_test = sent_x[10:]\n",
    "y_test = sent_y[10:]"
   ]
  },
  {
   "cell_type": "markdown",
   "metadata": {},
   "source": [
    "## Initialize CRF trainer"
   ]
  },
  {
   "cell_type": "code",
   "execution_count": 200,
   "metadata": {},
   "outputs": [],
   "source": [
    "trainer = pycrfsuite.Trainer(verbose=False)\n"
   ]
  },
  {
   "cell_type": "markdown",
   "metadata": {},
   "source": [
    "### add training data"
   ]
  },
  {
   "cell_type": "code",
   "execution_count": 201,
   "metadata": {},
   "outputs": [],
   "source": [
    "for xseq, yseq in zip(X_train, y_train):\n",
    "    trainer.append(xseq, yseq)"
   ]
  },
  {
   "cell_type": "code",
   "execution_count": 202,
   "metadata": {},
   "outputs": [],
   "source": [
    "trainer.set_params({\n",
    "    'c1': 1.0,   # coefficient for L1 penalty\n",
    "    'c2': 1e-3,  # coefficient for L2 penalty\n",
    "    'max_iterations': 50,  # stop earlier\n",
    "\n",
    "    # include transitions that are possible, but not observed\n",
    "    'feature.possible_transitions': True\n",
    "})"
   ]
  },
  {
   "cell_type": "markdown",
   "metadata": {},
   "source": [
    "## Train and save to file"
   ]
  },
  {
   "cell_type": "code",
   "execution_count": 203,
   "metadata": {},
   "outputs": [],
   "source": [
    "trainer.train('conll2002-esp.crfsuite')"
   ]
  },
  {
   "cell_type": "markdown",
   "metadata": {},
   "source": [
    "## Load model from file"
   ]
  },
  {
   "cell_type": "code",
   "execution_count": 204,
   "metadata": {},
   "outputs": [
    {
     "data": {
      "text/plain": [
       "<contextlib.closing at 0x7fe3b8e55b20>"
      ]
     },
     "execution_count": 204,
     "metadata": {},
     "output_type": "execute_result"
    }
   ],
   "source": [
    "tagger = pycrfsuite.Tagger()\n",
    "tagger.open('conll2002-esp.crfsuite')"
   ]
  },
  {
   "cell_type": "markdown",
   "metadata": {},
   "source": [
    "## Test"
   ]
  },
  {
   "cell_type": "code",
   "execution_count": 205,
   "metadata": {},
   "outputs": [
    {
     "name": "stdout",
     "output_type": "stream",
     "text": [
      "Predicted: Arg-B Arg-I Arg-I Arg-I Arg-I Arg-I Arg-I Arg-I Arg-I Arg-I Arg-I Arg-I Arg-I Arg-I Arg-I Arg-I Arg-I Arg-I Arg-I Arg-I Arg-I Arg-I Arg-I Arg-I Arg-I Arg-I Arg-I Arg-I Arg-I Arg-I Arg-I Arg-I Arg-I Arg-I Arg-I Arg-I Arg-I Arg-I Arg-I Arg-I Arg-I Arg-I Arg-I Arg-I Arg-I Arg-I Arg-I Arg-I Arg-I Arg-I Arg-I Arg-I Arg-I Arg-I Arg-I Arg-I Arg-I Arg-I Arg-I Arg-I Arg-I Arg-I\n",
      "Correct:   Arg-B Arg-I Arg-I Arg-I Arg-I Arg-I Arg-I Arg-I Arg-I Arg-I Arg-I Arg-I Arg-I Arg-I Arg-I Arg-I Arg-I Arg-I Arg-I Arg-I Arg-I Arg-I Arg-I Arg-I Arg-I Arg-I Arg-I Arg-I Arg-I Arg-I Arg-I Arg-I Arg-I Arg-I Arg-I Arg-I Arg-I Arg-I Arg-I Arg-I Arg-I Arg-I Arg-I Arg-I Arg-I Arg-I Arg-I Arg-I Arg-I Arg-I Arg-I Arg-I Arg-I Arg-I Arg-I Arg-I Arg-I Arg-I Arg-I Arg-I Arg-I O\n"
     ]
    }
   ],
   "source": [
    "print(\"Predicted:\", ' '.join(tagger.tag(X_test[2])))\n",
    "print(\"Correct:  \", ' '.join(y_test[2]))"
   ]
  },
  {
   "cell_type": "code",
   "execution_count": 206,
   "metadata": {},
   "outputs": [],
   "source": [
    "y_pred = []\n",
    "for i, each in enumerate(X_test):\n",
    "    y_pred.append(tagger.tag(each))\n"
   ]
  },
  {
   "cell_type": "code",
   "execution_count": 207,
   "metadata": {},
   "outputs": [],
   "source": [
    "lb = LabelBinarizer()"
   ]
  },
  {
   "cell_type": "code",
   "execution_count": 208,
   "metadata": {},
   "outputs": [],
   "source": [
    "y_true_combined = lb.fit_transform(list(chain.from_iterable(y_test)))"
   ]
  },
  {
   "cell_type": "code",
   "execution_count": 209,
   "metadata": {},
   "outputs": [],
   "source": [
    "y_pred_combined = lb.transform(list(chain.from_iterable(y_pred)))\n"
   ]
  },
  {
   "cell_type": "code",
   "execution_count": 210,
   "metadata": {},
   "outputs": [],
   "source": [
    "tagset = set(lb.classes_)\n",
    "tagset = sorted(tagset, key=lambda tag: tag.split('-', 1)[::-1])\n",
    "class_indices = {cls: idx for idx, cls in enumerate(lb.classes_)}\n",
    "\n",
    "report = classification_report(\n",
    "        y_true_combined,\n",
    "        y_pred_combined,\n",
    "        labels = [class_indices[cls] for cls in tagset],\n",
    "        target_names = tagset,\n",
    ")"
   ]
  },
  {
   "cell_type": "code",
   "execution_count": 211,
   "metadata": {},
   "outputs": [
    {
     "name": "stdout",
     "output_type": "stream",
     "text": [
      "              precision    recall  f1-score   support\n",
      "\n",
      "       Arg-B       0.40      0.50      0.44         4\n",
      "       Arg-I       0.79      0.88      0.83       102\n",
      "           O       0.70      0.54      0.61        57\n",
      "\n",
      "   micro avg       0.75      0.75      0.75       163\n",
      "   macro avg       0.63      0.64      0.63       163\n",
      "weighted avg       0.75      0.75      0.75       163\n",
      " samples avg       0.75      0.75      0.75       163\n",
      "\n"
     ]
    }
   ],
   "source": [
    "print(report)"
   ]
  }
 ],
 "metadata": {
  "kernelspec": {
   "display_name": "experiments",
   "language": "python",
   "name": "python3"
  },
  "language_info": {
   "codemirror_mode": {
    "name": "ipython",
    "version": 3
   },
   "file_extension": ".py",
   "mimetype": "text/x-python",
   "name": "python",
   "nbconvert_exporter": "python",
   "pygments_lexer": "ipython3",
   "version": "3.9.15"
  },
  "orig_nbformat": 4
 },
 "nbformat": 4,
 "nbformat_minor": 2
}
