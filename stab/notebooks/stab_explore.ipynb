{
 "cells": [
  {
   "cell_type": "code",
   "execution_count": 6,
   "metadata": {},
   "outputs": [],
   "source": [
    "from brat_parser import get_entities_relations_attributes_groups\n",
    "\n",
    "entities, relations, attributes, groups = get_entities_relations_attributes_groups(\"../data/ArgumentAnnotatedEssays-2.0 2/data/brat-project-final/essay001.ann\")"
   ]
  },
  {
   "cell_type": "code",
   "execution_count": 11,
   "metadata": {},
   "outputs": [
    {
     "data": {
      "text/plain": [
       "{'T1': Entity(id='T1', type='MajorClaim', span=((503, 575),), text='we should attach more importance to cooperation during primary education'),\n",
       " 'T2': Entity(id='T2', type='MajorClaim', span=((2154, 2231),), text=\"a more cooperative attitudes towards life is more profitable in one's success\"),\n",
       " 'T3': Entity(id='T3', type='Claim', span=((591, 714),), text='through cooperation, children can learn about interpersonal skills which are significant in the future life of all students'),\n",
       " 'T4': Entity(id='T4', type='Premise', span=((716, 851),), text='What we acquired from team work is not only how to achieve the same goal with others but more importantly, how to get along with others'),\n",
       " 'T5': Entity(id='T5', type='Premise', span=((853, 1086),), text='During the process of cooperation, children can learn about how to listen to opinions of others, how to communicate with others, how to think comprehensively, and even how to compromise with other team members when conflicts occurred'),\n",
       " 'T6': Entity(id='T6', type='Premise', span=((1088, 1191),), text='All of these skills help them to get on well with other people and will benefit them for the whole life'),\n",
       " 'T7': Entity(id='T7', type='Claim', span=((1332, 1376),), text='competition makes the society more effective'),\n",
       " 'T8': Entity(id='T8', type='Premise', span=((1212, 1301),), text='the significance of competition is that how to become more excellence to gain the victory'),\n",
       " 'T9': Entity(id='T9', type='Premise', span=((1387, 1492),), text='when we consider about the question that how to win the game, we always find that we need the cooperation'),\n",
       " 'T10': Entity(id='T10', type='Premise', span=((1549, 1846),), text='Take Olympic games which is a form of competition for instance, it is hard to imagine how an athlete could win the game without the training of his or her coach, and the help of other professional staffs such as the people who take care of his diet, and those who are in charge of the medical care'),\n",
       " 'T11': Entity(id='T11', type='Claim', span=((1927, 1992),), text='without the cooperation, there would be no victory of competition')}"
      ]
     },
     "execution_count": 11,
     "metadata": {},
     "output_type": "execute_result"
    }
   ],
   "source": [
    "entities"
   ]
  },
  {
   "cell_type": "code",
   "execution_count": null,
   "metadata": {},
   "outputs": [],
   "source": []
  }
 ],
 "metadata": {
  "kernelspec": {
   "display_name": "experiments",
   "language": "python",
   "name": "python3"
  },
  "language_info": {
   "codemirror_mode": {
    "name": "ipython",
    "version": 3
   },
   "file_extension": ".py",
   "mimetype": "text/x-python",
   "name": "python",
   "nbconvert_exporter": "python",
   "pygments_lexer": "ipython3",
   "version": "3.9.15"
  },
  "orig_nbformat": 4
 },
 "nbformat": 4,
 "nbformat_minor": 2
}
