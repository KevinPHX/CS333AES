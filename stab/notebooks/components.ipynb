{
 "cells": [
  {
   "cell_type": "markdown",
   "metadata": {},
   "source": [
    "### Features for argument component identification following Stab and Gurveych (2017)\n",
    "Read in relevant data: \n",
    "- Raw essay text \n",
    "- Annotated essays\n",
    "- Token-level annotations (index of covering sentence, token, lemma, POS, sentiment)\n",
    "- Segmented Sentences"
   ]
  },
  {
   "cell_type": "markdown",
   "metadata": {},
   "source": [
    "Structural Features: \n",
    "- Token Position: \n",
    "    - Token present in introduction or conclusion \n",
    "    - token is first or last token in sentence\n",
    "    - relative and absolute token position in document, paragraph and sentence\n",
    "- Token Punctation: \n",
    "    - Token precedes or follows any punctuation, full stop, comma and semicolon\n",
    "    - token is any punctuation or full stop\n",
    "- Position of covering sentence: \n",
    "    - Absolute and relative position of the token’s covering sentence in the document and paragraph"
   ]
  },
  {
   "cell_type": "markdown",
   "metadata": {},
   "source": [
    "Syntactic Features: \n",
    "- Part-of-speech: *See the files in the preprocessing/src/main/resources/token_level folder*\n",
    "- Lowest common ancestor (LCA): Normalized length of the path to the LCA with the following and preceding token in the parse tree\n",
    "- LCA types: The two constituent types of the LCA of the current token and its preceding and following token\n",
    "\n",
    "See the <file_name>.java file in the preprcoessing/src/main/java/preprocess folder "
   ]
  },
  {
   "cell_type": "markdown",
   "metadata": {},
   "source": [
    "Lexico-Syntactic Features: \n",
    "- From Stab and Gurveych 2017: \"We use lexical head projection rules (Collins 2003) implemented in the Stanford tool suite to lexicalize the constituent parse tree. For each token t, we extract its uppermost node n in the parse tree with the lexical head t and define a lexico- syntactic feature as the combination of t and the constituent type of n. We also consider the child node of n in the path to t and its right sibling, and combine their lexical heads and constituent types as described by Soricut and Marcu (2003).\"\n",
    "\n",
    "See the <file_name>.java file in the preprocessing/src/main/java/preprocess folder \n"
   ]
  },
  {
   "cell_type": "markdown",
   "metadata": {},
   "source": [
    "Probability: \n",
    "- Conditional probability of the current token being the beginning of a component (Arg-B) given its n preceding tokens (with n \\in {1,2,3}). Use maximum likelihood estimation to estimate these probabilities in the training data. \n",
    "- **Preprocessing Task** Label each token as Arg-B (beginning of argument component), Arg-I (token within a component) or O (non-argumentative token). The argument components are found in the annotated files from Stab and Gurveych's dataset.  \n"
   ]
  }
 ],
 "metadata": {
  "kernelspec": {
   "display_name": "base",
   "language": "python",
   "name": "python3"
  },
  "language_info": {
   "name": "python",
   "version": "3.9.7"
  }
 },
 "nbformat": 4,
 "nbformat_minor": 2
}
