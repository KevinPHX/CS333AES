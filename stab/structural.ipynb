{
 "cells": [
  {
   "cell_type": "code",
   "execution_count": 1,
   "metadata": {},
   "outputs": [],
   "source": [
    "from structural import * "
   ]
  },
  {
   "cell_type": "markdown",
   "metadata": {},
   "source": [
    "Get token-level structural features for component identification \n",
    "- Token Position: \n",
    "    - Token present in introduction or conclusion \n",
    "    - token is first or last token in sentence \n",
    "    - relative and absolute token position in document, paragraph and sentence\n",
    "- Token Punctation: \n",
    "    - Token precedes or follows any punctuation, full stop, comma and semicolon **Boolean**\n",
    "    - token is any punctuation or full stop **Boolean**\n",
    "- Position of covering sentence: \n",
    "    - Absolute and relative position of the token’s covering sentence in the document and paragraph"
   ]
  },
  {
   "cell_type": "code",
   "execution_count": 2,
   "metadata": {},
   "outputs": [
    {
     "name": "stdout",
     "output_type": "stream",
     "text": [
      "{'token': 'It', 'sentence': 0, 'index': 1, 'lemma': 'it', 'pos': 'PRP', 'sentiment': 'Neutral', 'start': 55, 'paragraph': 0, 'docPosition': 'Introduction', 'sentPosition': 'First', 'IOB': 'O', 'isPunc': False, 'followsPunc': False, 'precedesPunc': False}\n"
     ]
    }
   ],
   "source": [
    "essayDir = \"/Users/amycweng/Downloads/CS333_Project/ArgumentAnnotatedEssays-2.0/brat-project-final\"\n",
    "annDir = \"/Users/amycweng/Downloads/CS333_Project/CS333AES/stab/preprocessing/src/main/resources/token_level\"\n",
    "sentDir = \"/Users/amycweng/Downloads/CS333_Project/CS333AES/stab/preprocessing/src/main/resources/sentence_sentiment\"\n",
    "filename = 'essay001'\n",
    "essay_ann_file = f\"{essayDir}/{filename}.ann\"\n",
    "essay_txt_file = f\"{essayDir}/{filename}.txt\"\n",
    "token_file = f\"{annDir}/{filename}.txt\"\n",
    "sentence_file = f\"{sentDir}/{filename}.txt\"\n",
    "\n",
    "essay = Structural()\n",
    "essay.read_data(essay_ann_file, essay_txt_file, token_file, sentence_file)\n",
    "essay.annotate_tokens()\n",
    "print(essay.annotations[0][1])\n",
    "# outputdir = \"/Users/amycweng/Downloads/CS333_Project/CS333AES/stab/token_annotations\" \n",
    "# essay.write_data(f\"{outputdir}/{filename}.csv\")"
   ]
  },
  {
   "cell_type": "markdown",
   "metadata": {},
   "source": [
    "TOKEN STATISTICS FOR EACH COMPONENT (all **Integer** or **Float**)\n",
    "\n",
    "For component classification:  \n",
    "- (1) Number of tokens in component\n",
    "- (2) Number of tokens in covering sentence \n",
    "- (3) Number of tokens in covering paragraph \n",
    "- (4) Number of tokens preceding component in sentence \n",
    "- (5) Number of tokens succeeding component in sentence\n",
    "\n",
    "For component stance recognition:   \n",
    "- (2), (4), (5)\n",
    "- (6) Ratio of number of component to sentence tokens \n",
    "\n",
    "For relation identification: \n",
    "- Number of tokens in source. See (1)\n",
    "- Number of tokens in target. See (1)\n"
   ]
  },
  {
   "cell_type": "code",
   "execution_count": 3,
   "metadata": {},
   "outputs": [
    {
     "name": "stdout",
     "output_type": "stream",
     "text": [
      "T1:  {'sentence': 21, 'paragraph': 95, 'within': 10, 'preceding': 10, 'following': 1}\n",
      "\tRatio of component to sentence tokens:  0.47619047619047616\n"
     ]
    }
   ],
   "source": [
    "essay.token_stats()\n",
    "print(\"T1: \", essay.token_info[\"T1\"]) \n",
    "print(\"\\tRatio of component to sentence tokens: \", \n",
    "      essay.token_info[\"T1\"][\"within\"]\n",
    "        / essay.token_info[\"T1\"][\"sentence\"])"
   ]
  },
  {
   "cell_type": "markdown",
   "metadata": {},
   "source": [
    "COMPONENT STATISTICS \n",
    "\n",
    "For component classification:  \n",
    "- (1) If first or last in paragraph **Boolean**\n",
    "- (2) Present in intro or conclusion **Boolean**\n",
    "- (3) Relative position in paragraph **Integer**\n",
    "- (4) Number of preceding and following components in paragraph **Integer**\n",
    "\n",
    "For relation identification (source and target are both in the same paragraph): \n",
    "- (5) Number of components between source and target **Integer**\n",
    "- (6) Number of components in covering paragraph **Integer**\n",
    "- (7) If source and target are present in the same sentence **Boolean**\n",
    "- (8) If target present before source **Boolean**\n",
    "- (9) If source and target are first or last component in paragraph **Boolean**\n",
    "- (10) If source and target present in introduction or conclusion **Boolean**\n",
    "\n",
    "For stance recognition: \n",
    "- (6), (4), (3)\n"
   ]
  },
  {
   "cell_type": "code",
   "execution_count": 4,
   "metadata": {},
   "outputs": [
    {
     "name": "stdout",
     "output_type": "stream",
     "text": [
      "T1: {'sentIdx': 3, 'first/last': True, 'intro/conc': True, 'num_paragraph': 1, 'num_preceding': 0, 'num_following': 0}\n",
      "T3: {'sentIdx': 4, 'first/last': True, 'intro/conc': False, 'num_paragraph': 4, 'num_preceding': 0, 'num_following': 3}\n",
      "T4: {'sentIdx': 5, 'first/last': False, 'intro/conc': False, 'num_paragraph': 4, 'num_preceding': 1, 'num_following': 2}\n",
      "T5: {'sentIdx': 6, 'first/last': False, 'intro/conc': False, 'num_paragraph': 4, 'num_preceding': 2, 'num_following': 1}\n",
      "T6: {'sentIdx': 7, 'first/last': True, 'intro/conc': False, 'num_paragraph': 4, 'num_preceding': 3, 'num_following': 0}\n",
      "T8: {'sentIdx': 8, 'first/last': True, 'intro/conc': False, 'num_paragraph': 5, 'num_preceding': 0, 'num_following': 4}\n",
      "T7: {'sentIdx': 9, 'first/last': False, 'intro/conc': False, 'num_paragraph': 5, 'num_preceding': 1, 'num_following': 3}\n",
      "T9: {'sentIdx': 10, 'first/last': False, 'intro/conc': False, 'num_paragraph': 5, 'num_preceding': 2, 'num_following': 2}\n",
      "T10: {'sentIdx': 12, 'first/last': False, 'intro/conc': False, 'num_paragraph': 5, 'num_preceding': 3, 'num_following': 1}\n",
      "T11: {'sentIdx': 14, 'first/last': True, 'intro/conc': False, 'num_paragraph': 5, 'num_preceding': 4, 'num_following': 0}\n",
      "T2: {'sentIdx': 15, 'first/last': True, 'intro/conc': True, 'num_paragraph': 1, 'num_preceding': 0, 'num_following': 0}\n"
     ]
    }
   ],
   "source": [
    "essay.component_stats()\n",
    "for name, info in essay.component_info.items(): \n",
    "    print(f\"{name}: {info}\")"
   ]
  },
  {
   "cell_type": "code",
   "execution_count": 13,
   "metadata": {},
   "outputs": [
    {
     "name": "stdout",
     "output_type": "stream",
     "text": [
      "Second Paragraph Pairwise Token Stats: \n",
      "\n",
      "Source T3 has 19 tokens and Target T4 has 27 tokens\n",
      "Source T3 has 19 tokens and Target T5 has 41 tokens\n",
      "Source T3 has 19 tokens and Target T6 has 21 tokens\n",
      "Source T4 has 27 tokens and Target T3 has 19 tokens\n",
      "Source T4 has 27 tokens and Target T5 has 41 tokens\n",
      "Source T4 has 27 tokens and Target T6 has 21 tokens\n",
      "Source T5 has 41 tokens and Target T3 has 19 tokens\n",
      "Source T5 has 41 tokens and Target T4 has 27 tokens\n",
      "Source T5 has 41 tokens and Target T6 has 21 tokens\n",
      "Source T6 has 21 tokens and Target T3 has 19 tokens\n",
      "Source T6 has 21 tokens and Target T4 has 27 tokens\n",
      "Source T6 has 21 tokens and Target T5 has 41 tokens\n",
      "\n",
      "Second Paragraph Pairwise Component Stats: \n",
      "\n",
      "Source T3 and Target T4: {'first/last': False, 'num_between': 0, 'num_paragraph': 4, 'intro/conc': False, 'targetBeforeSource': True, 'sameSentence': False}\n",
      "Source T3 and Target T5: {'first/last': False, 'num_between': 1, 'num_paragraph': 4, 'intro/conc': False, 'targetBeforeSource': True, 'sameSentence': False}\n",
      "Source T3 and Target T6: {'first/last': True, 'num_between': 2, 'num_paragraph': 4, 'intro/conc': False, 'targetBeforeSource': True, 'sameSentence': False}\n",
      "\n",
      "\n",
      "Source T4 and Target T3: {'first/last': False, 'num_between': 0, 'num_paragraph': 4, 'intro/conc': False, 'targetBeforeSource': False, 'sameSentence': False}\n",
      "Source T4 and Target T5: {'first/last': False, 'num_between': 0, 'num_paragraph': 4, 'intro/conc': False, 'targetBeforeSource': True, 'sameSentence': False}\n",
      "Source T4 and Target T6: {'first/last': False, 'num_between': 1, 'num_paragraph': 4, 'intro/conc': False, 'targetBeforeSource': True, 'sameSentence': False}\n",
      "\n",
      "\n",
      "Source T5 and Target T3: {'first/last': False, 'num_between': 1, 'num_paragraph': 4, 'intro/conc': False, 'targetBeforeSource': False, 'sameSentence': False}\n",
      "Source T5 and Target T4: {'first/last': False, 'num_between': 0, 'num_paragraph': 4, 'intro/conc': False, 'targetBeforeSource': False, 'sameSentence': False}\n",
      "Source T5 and Target T6: {'first/last': False, 'num_between': 0, 'num_paragraph': 4, 'intro/conc': False, 'targetBeforeSource': True, 'sameSentence': False}\n",
      "\n",
      "\n",
      "Source T6 and Target T3: {'first/last': True, 'num_between': 2, 'num_paragraph': 4, 'intro/conc': False, 'targetBeforeSource': False, 'sameSentence': False}\n",
      "Source T6 and Target T4: {'first/last': False, 'num_between': 1, 'num_paragraph': 4, 'intro/conc': False, 'targetBeforeSource': False, 'sameSentence': False}\n",
      "Source T6 and Target T5: {'first/last': False, 'num_between': 0, 'num_paragraph': 4, 'intro/conc': False, 'targetBeforeSource': False, 'sameSentence': False}\n",
      "\n",
      "\n"
     ]
    }
   ],
   "source": [
    "essay.pairs()\n",
    "print(\"Second Paragraph Pairwise Token Stats: \\n\")\n",
    "for name, pair in essay.pairwise_tokens[1].items():\n",
    "    for name2,info in pair.items():  \n",
    "        print(f\"Source {name} has {info[0]} tokens and Target {name2} has {info[1]} tokens\")\n",
    "\n",
    "print(\"\\nSecond Paragraph Pairwise Component Stats: \\n\")\n",
    "for name, pair in  essay.pairwise_components[1].items(): \n",
    "    for name2, info in pair.items(): \n",
    "        print(f\"Source {name} and Target {name2}: {info}\")\n",
    "    print(\"\\n\")"
   ]
  }
 ],
 "metadata": {
  "kernelspec": {
   "display_name": "base",
   "language": "python",
   "name": "python3"
  },
  "language_info": {
   "codemirror_mode": {
    "name": "ipython",
    "version": 3
   },
   "file_extension": ".py",
   "mimetype": "text/x-python",
   "name": "python",
   "nbconvert_exporter": "python",
   "pygments_lexer": "ipython3",
   "version": "3.9.7"
  }
 },
 "nbformat": 4,
 "nbformat_minor": 2
}
