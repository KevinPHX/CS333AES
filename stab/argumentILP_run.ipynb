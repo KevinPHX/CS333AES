{
 "cells": [
  {
   "cell_type": "code",
   "execution_count": null,
   "metadata": {},
   "outputs": [],
   "source": [
    "from argumentILP import ArgumentTrees\n",
    "\n",
    "essayDir = \"/Users/amycweng/Downloads/CS333_Project/ArgumentAnnotatedEssays-2.0/brat-project-final\"\n",
    "annDir = \"/Users/amycweng/Downloads/CS333_Project/CS333AES/stab/preprocessing/src/main/resources/token_level\"\n",
    "sentDir = \"/Users/amycweng/Downloads/CS333_Project/CS333AES/stab/preprocessing/src/main/resources/sentence_sentiment\"\n",
    "\n",
    "filename = 'essay001'\n",
    "essay_ann_file = f\"{essayDir}/{filename}.ann\"\n",
    "essay_txt_file = f\"{essayDir}/{filename}.txt\"\n",
    "sentence_file = f\"{sentDir}/{filename}.txt\"\n",
    "\n",
    "argument = ArgumentTrees(essay_ann_file, essay_txt_file, sentence_file)\n",
    "argument.solve()"
   ]
  }
 ],
 "metadata": {
  "language_info": {
   "name": "python"
  }
 },
 "nbformat": 4,
 "nbformat_minor": 2
}
